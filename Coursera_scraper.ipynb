{
 "cells": [
  {
   "cell_type": "code",
   "execution_count": 1,
   "metadata": {},
   "outputs": [],
   "source": [
    "import pandas as pd\n",
    "import numpy as np\n",
    "from bs4 import BeautifulSoup\n",
    "import requests\n",
    "from tqdm.notebook import tqdm\n",
    "from time import sleep\n",
    "import random\n",
    "import re"
   ]
  },
  {
   "cell_type": "code",
   "execution_count": 4,
   "metadata": {},
   "outputs": [
    {
     "data": {
      "text/plain": [
       "0    Mozilla/5.0 (Macintosh; Intel Mac OS X 11_1_0)...\n",
       "1    Mozilla/5.0 (Macintosh; Intel Mac OS X 10_15_7...\n",
       "2    Mozilla/5.0 (Macintosh; Intel Mac OS X 10_7_5)...\n",
       "3    Mozilla/5.0 (Windows NT 6.1; Win64; x64) Apple...\n",
       "4    Mozilla/5.0 (Windows NT 6.3; Win64; x64) Apple...\n",
       "Name: user_agent, dtype: object"
      ]
     },
     "execution_count": 4,
     "metadata": {},
     "output_type": "execute_result"
    }
   ],
   "source": [
    "# generate a list of user agents from stored csv\n",
    "def user_agent_generator():\n",
    "    agent_list = pd.read_csv('user_agents.csv')['user_agent']\n",
    "    return agent_list\n",
    "\n",
    "# test user agent generator\n",
    "user_agents = user_agent_generator()\n",
    "user_agents[:5]"
   ]
  },
  {
   "cell_type": "code",
   "execution_count": 7,
   "metadata": {},
   "outputs": [],
   "source": [
    "# Function to create a soup object from Coursera's all-course directory\n",
    "\n",
    "def make_soup(page):\n",
    "    url = f\"https://www.coursera.org/courses?page={page}&index=prod_all_products_term_optimization\"\n",
    "    \n",
    "    user_agent = random.choice(user_agents)\n",
    "    \n",
    "    response = requests.get(url, \n",
    "                            headers={'User-Agent': user_agent}, \n",
    "                            timeout=10)\n",
    "    sleep(5)\n",
    "    soup = BeautifulSoup(response.content, 'html.parser')\n",
    "    return soup"
   ]
  },
  {
   "cell_type": "code",
   "execution_count": 19,
   "metadata": {
    "scrolled": true
   },
   "outputs": [
    {
     "name": "stdout",
     "output_type": "stream",
     "text": [
      "Courses | CourseraExploreFor EnterpriseFor StudentsLog InJoin for FreeBrowse>CourseraCoursera CoursesAllGuided ProjectsDegrees & CertificatesShowing 8413 total resultsOther topics to exploreArts and Humanities338 coursesBusiness1095 coursesComputer Science668 coursesData Science425 coursesInformation Technology145 coursesHealth471 coursesMath and Logic70 coursesPersonal Development137 coursesPhysical Science and Engineering413 coursesSocial Sciences401 coursesLanguage Learning150 coursesWhat Coursera Has to Offerlearning programdescriptionGUIDED PROJECTLearn a job-relevant skill that you can use today in under 2 hours through an interactive experience guided by a subject matter expert. Access everything you need right in your browser and complete your project confidently with step-by-step instructions.COURSETake courses from the world's best instructors and universities. Courses include recorded auto-graded and peer-reviewed assignments, video lectures, and community discussion forums. When you complete a course, you’ll be eligible to receive a shareable electronic Course Certificate for a small fee.SPECIALIZATIONEnroll in a Specialization to master a specific career skill. You’ll complete a series of rigorous courses, tackle hands-on projects, and earn a Specialization Certificate to share with your professional network and potential employers.PROFESSIONAL CERTIFICATEWhether you’re looking to start a new career or change your current one, Professional Certificates on Coursera help you become job ready. Learn at your own pace from top companies and universities, apply your new skills to hands-on projects that showcase your expertise to potential employers, and earn a career credential to kickstart your new career.MASTERTRACK™ CERTIFICATEWith MasterTrack™ Certificates, portions of Master’s programs have been split into online modules, so you can earn a high quality university-issued career credential at a breakthrough price in a flexible, interactive format. Benefit from a deeply engaging learning experience with real-world projects and live, expert instruction. If you are accepted to the full Master's program, your MasterTrack coursework counts towards your degree.DEGREETransform your resume with a degree from a top university for a breakthrough price. Our modular degree learning experience gives you the ability to study online anytime and earn credit as you complete your course assignments. You'll receive the same credential as students who attend class on campus. Coursera degrees cost much less than comparable on-campus programs.Coursera FooterStart or advance your careerGoogle Data AnalystGoogle Project ManagementGoogle UX DesignGoogle IT SupportIBM Data ScienceIBM Data AnalystIBM Data Analytics with Excel and RIBM Cybersecurity AnalystFacebook Social Media MarketingIBM Full Stack Cloud DeveloperSalesforce Sales Development RepresentativeSalesforce Sales OperationsSoporte de Tecnologías de la Información de GoogleCertificado profesional de Suporte em TI do GoogleGoogle IT Automation with PythonDeepLearning.AI TensorflowPopular Cybersecurity CertificationsPopular SQL CertificationsPopular IT CertificationsSee all certificatesBrowse popular topicsFree CoursesLearn a LanguagePythonJavaWeb DesignSQLCursos GratisMicrosoft ExcelProject ManagementCybersecurityHuman ResourcesData Science Free CoursesSpeaking EnglishContent WritingFull Stack Web DevelopmentArtificial IntelligenceC ProgrammingCommunication SkillsBlockchainSee all coursesUpskill your teamSkills for Data Science TeamsData Driven Decision MakingSoftware Engineering SkillsSoft Skills for Engineering TeamsManagement SkillsMarketing SkillsSkills for Sales TeamsProduct Manager SkillsSkills for FinanceAndroid Development ProjectsTensorFlow and Keras ProjectsPython for EverybodyDeep LearningExcel Skills for BusinessBusiness FoundationsMachine LearningAWS FundamentalsData Engineering FoundationsData Analyst SkillsSkills for UX DesignersEarn a degree or certificate onlineMasterTrack® CertificatesProfessional CertificatesUniversity CertificatesMBA & Business DegreesData Science DegreesComputer Science DegreesData Analytics DegreesPublic Health DegreesSocial Sciences DegreesManagement DegreesDegrees from Top European UniversitiesMaster's DegreesBachelor's DegreesDegrees with a Performance PathwayBsc CoursesWhat is a Bachelor's Degree?How Long Does a Master's Degree Take?Is an Online MBA Worth It?7 Ways to Pay for Graduate SchoolSee all degreesCourseraAboutWhat We OfferLeadershipCareersCatalogCoursera PlusProfessional CertificatesMasterTrack™ CertificatesDegreesFor EnterpriseFor GovernmentFor CampusCommunityLearnersPartnersDevelopersBeta TestersTranslatorsBlogTech BlogTeaching CenterMorePressInvestorsTermsPrivacyHelpAccessibilityContactArticlesDirectoryAffiliatesLearn Anywhere© 2021 Coursera Inc. All rights reserved.\n"
     ]
    }
   ],
   "source": [
    "# test with research results page 1\n",
    "soup = make_soup(1)\n",
    "# print(soup.prettify())\n",
    "print(soup.get_text())"
   ]
  },
  {
   "cell_type": "markdown",
   "metadata": {},
   "source": [
    "#### The research results do not appear in the extracted text\n",
    "- Looks like the table of results is dynamic content?\n",
    "- Also, moving to other pages doesn't change the URL query. "
   ]
  },
  {
   "cell_type": "code",
   "execution_count": 20,
   "metadata": {},
   "outputs": [],
   "source": [
    "# Functions to extract course results data \n",
    "\n",
    "course_list = []\n",
    "\n",
    "def extract_course(soup):\n",
    "    results = soup.find_all('a', class_ = 'rc-MobileSearchCard')\n",
    "    for item in results:\n",
    "        try:\n",
    "            partner = item.find('spam', class_ = 'partner-name').text.strip()\n",
    "        except:\n",
    "            partner = np.nan\n",
    "        try:\n",
    "            title = item.find('h2', class_ = 'color-primary-text card-title headline-1-text').text.strip()\n",
    "        except:\n",
    "            title = np.nan\n",
    "        try:\n",
    "            learning_product = item.find('div', class_ = '_jen3vs _1d8rgfy3').text.strip()\n",
    "        except:\n",
    "            learning_product = np.nan\n",
    "        try:\n",
    "            rating = item.find('span', class_ = 'ratings-text').text.strip()\n",
    "        except:\n",
    "            rating = np.nan\n",
    "        try:\n",
    "            rating_count = item.find('span', class_ = 'ratings-count').text.strip()\n",
    "        except:\n",
    "            rating_count = np.nan\n",
    "        try:\n",
    "            students = item.find('span', class_ = 'enrollment-number').text.strip()\n",
    "        except:\n",
    "            students = np.nan\n",
    "        try:\n",
    "            difficulty = item.find('span', class_ = 'difficulty').text.strip()\n",
    "        except:\n",
    "            difficulty = np.nan\n",
    "        try:\n",
    "            link = item.find('a')['href']\n",
    "        except:\n",
    "            link = np.nan\n",
    "                    \n",
    "            \n",
    "        course = {\n",
    "        'partner': partner,\n",
    "        'title': title,\n",
    "        'learning_product': learning_product,\n",
    "        'rating': rating,\n",
    "        'rating_count': rating_count,\n",
    "        'students': students,\n",
    "        'full_description': full_description,\n",
    "        'difficulty': difficulty,\n",
    "        'link': link\n",
    "    }\n",
    "\n",
    "        course_list.append(course)\n",
    "\n",
    "    return course_list"
   ]
  },
  {
   "cell_type": "code",
   "execution_count": 21,
   "metadata": {
    "scrolled": true
   },
   "outputs": [
    {
     "data": {
      "text/plain": [
       "[]"
      ]
     },
     "execution_count": 21,
     "metadata": {},
     "output_type": "execute_result"
    }
   ],
   "source": [
    "# test on search result page 1\n",
    "extract_course(soup)"
   ]
  },
  {
   "cell_type": "markdown",
   "metadata": {},
   "source": [
    "### Try Selenium"
   ]
  },
  {
   "cell_type": "code",
   "execution_count": 14,
   "metadata": {},
   "outputs": [],
   "source": [
    "from selenium import webdriver\n",
    "from selenium.webdriver.common.by import By\n",
    "from selenium.webdriver.support.ui import WebDriverWait\n",
    "from selenium.webdriver.support import expected_conditions as EC\n",
    "from selenium.common.exceptions import TimeoutException"
   ]
  },
  {
   "cell_type": "code",
   "execution_count": 26,
   "metadata": {},
   "outputs": [],
   "source": [
    "driver = webdriver.Chrome(executable_path='/Users/nancybui/Downloads/chromedriver')"
   ]
  },
  {
   "cell_type": "code",
   "execution_count": 27,
   "metadata": {},
   "outputs": [],
   "source": [
    "driver.get('https://www.coursera.org/courses')"
   ]
  },
  {
   "cell_type": "code",
   "execution_count": null,
   "metadata": {},
   "outputs": [],
   "source": []
  }
 ],
 "metadata": {
  "kernelspec": {
   "display_name": "Python 3",
   "language": "python",
   "name": "python3"
  },
  "language_info": {
   "codemirror_mode": {
    "name": "ipython",
    "version": 3
   },
   "file_extension": ".py",
   "mimetype": "text/x-python",
   "name": "python",
   "nbconvert_exporter": "python",
   "pygments_lexer": "ipython3",
   "version": "3.8.5"
  }
 },
 "nbformat": 4,
 "nbformat_minor": 4
}
